{
 "cells": [
  {
   "cell_type": "code",
   "execution_count": 1,
   "id": "2ac8ee04",
   "metadata": {},
   "outputs": [],
   "source": [
    "from selenium import webdriver\n",
    "import schedule\n",
    "import time\n",
    "import sqlite3\n",
    "from bs4 import BeautifulSoup"
   ]
  },
  {
   "cell_type": "code",
   "execution_count": 2,
   "id": "81835fb7",
   "metadata": {},
   "outputs": [],
   "source": [
    "driver = webdriver.Chrome('./chromedriver.exe')"
   ]
  },
  {
   "cell_type": "code",
   "execution_count": 4,
   "id": "0cd570bb",
   "metadata": {},
   "outputs": [],
   "source": [
    "driver.get('https://news.daum.net/breakingnews/?page=1')"
   ]
  },
  {
   "cell_type": "code",
   "execution_count": 33,
   "id": "fbc6ac7e",
   "metadata": {},
   "outputs": [],
   "source": [
    "driver.find_element_by_xpath('//*[@id=\"mArticle\"]/div[2]/ul/li[3]/div/strong/a').click()"
   ]
  },
  {
   "cell_type": "code",
   "execution_count": 34,
   "id": "d46f44ef",
   "metadata": {},
   "outputs": [],
   "source": [
    "html = driver.page_source"
   ]
  },
  {
   "cell_type": "code",
   "execution_count": 35,
   "id": "ff95ff3f",
   "metadata": {},
   "outputs": [],
   "source": [
    "soup = BeautifulSoup(html, 'html.parser')"
   ]
  },
  {
   "cell_type": "code",
   "execution_count": 36,
   "id": "c10ebfc0",
   "metadata": {},
   "outputs": [
    {
     "data": {
      "text/plain": [
       "\"이달의 소녀X라이언전 '낫 프렌즈' 아이튠즈 해외차트 톱10 진입[공식]\""
      ]
     },
     "execution_count": 36,
     "metadata": {},
     "output_type": "execute_result"
    }
   ],
   "source": [
    "titles = soup.select('h3.tit_view')\n",
    "title = titles[0].text.strip()\n",
    "title"
   ]
  },
  {
   "cell_type": "code",
   "execution_count": 37,
   "id": "040a5f3c",
   "metadata": {},
   "outputs": [
    {
     "data": {
      "text/plain": [
       "'2021. 09. 06. 14:58'"
      ]
     },
     "execution_count": 37,
     "metadata": {},
     "output_type": "execute_result"
    }
   ],
   "source": [
    "times = soup.select('span.num_date')\n",
    "time = times[0].text.strip()\n",
    "time"
   ]
  },
  {
   "cell_type": "code",
   "execution_count": 41,
   "id": "f5ec5809",
   "metadata": {},
   "outputs": [
    {
     "data": {
      "text/plain": [
       "\"[스타뉴스 윤상근 기자] \\n          \\n\\n\\n\\n            /사진제공=빅오션ENM\\n           \\n\\n\\n걸그룹 이달의 소녀(LOONA)와 라이언전의 합작품 '낫 프렌즈'가 해외 차트에서 폭발적인 관심을 받고 있다.\\n          \\n이달의 소녀는 지난 3일 오후 6시 프로듀서 라이언전과 함께한 '맥시스'(MAXIS) 프로젝트 파트2 '낫 프렌즈'(Not Friends)를 발매했다. '낫 프렌즈'는 지난 4일 오후 5시 기준 해외 아이튠즈 차트에서 글로벌적인 인기를 기록하고 있다.\\n'낫 프렌즈'는 캄보디아 말레이시아 3위, 아르헨티나 칠레 페루 필리핀 등에서 4위에 위치했으며 이외에도 베트남 싱가포르 태국 등에서도 톱10에 진입하는 기염을 토했다. 특히 '낫 프렌즈'는 미국 아이튠즈 차트에선 94위 이름을 올리며 톱100에도 진입, 화제를 모았다. \\n'낫 프렌즈'는 라이언전과 그의 팀의 색깔을 담은 팝 넘버로 어쿠스틱 락과 힙합의 경계에서 줄다리기를 하는 듯한 사운드가 매력적이다. 담담하게 읊조리다 스웨그 넘치는 보컬로 전환하는 템포 조절 또한 일품인 작품. 싱어송라이터 유하(YOUHA)와 함께 이달의 소녀 김립이 작사에 참여했을 뿐만 아니라, 친구와 연인 사이 경계를 무너뜨리고자 하는 대담한 욕망을 담은 가사가 눈길을 끈다.\\n또한 이달의 소녀가 파격적인 모습을 선보인 '낫 프렌즈' 뮤직비디오는 공개 직후 높은 조회수를 기록하며 현재까지도 상승세를 보이고 있다. 라이언전은 '맥시스' 파트 원 '매니악'(Maniac)에 이어 '낫 프렌즈'로 흥행에 성공해 앞으로 남은 프로젝트에 대한 기대감 역시 고조되고 있다.\\n윤상근 기자 sgyoon@mt.co.kr\\n\\n           윤상근 기자 sgyoon@\""
      ]
     },
     "execution_count": 41,
     "metadata": {},
     "output_type": "execute_result"
    }
   ],
   "source": [
    "contents = soup.select('#harmonyContainer > section')\n",
    "content1 = contents[0].text.strip()\n",
    "content1"
   ]
  },
  {
   "cell_type": "code",
   "execution_count": null,
   "id": "cebd15a1",
   "metadata": {},
   "outputs": [],
   "source": []
  }
 ],
 "metadata": {
  "kernelspec": {
   "display_name": "Python 3 (ipykernel)",
   "language": "python",
   "name": "python3"
  },
  "language_info": {
   "codemirror_mode": {
    "name": "ipython",
    "version": 3
   },
   "file_extension": ".py",
   "mimetype": "text/x-python",
   "name": "python",
   "nbconvert_exporter": "python",
   "pygments_lexer": "ipython3",
   "version": "3.9.6"
  }
 },
 "nbformat": 4,
 "nbformat_minor": 5
}
