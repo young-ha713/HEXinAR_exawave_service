{
 "cells": [
  {
   "cell_type": "code",
   "execution_count": null,
   "source": [
    "import re\r\n",
    "import sqlite3\r\n",
    "from konlpy.tag import Okt\r\n",
    "from collections import Counter\r\n",
    "\r\n",
    "# db 자료 불러오기\r\n",
    "conn = sqlite3.connect('news.db')\r\n",
    "c = conn.cursor()\r\n",
    "c.execute('SELECT news_content from news_dummy2')\r\n",
    "# c.execute('SELECT news_content from news_dummy2 WHERE pubdate LIKE \"%23:55')\r\n",
    "news_con = []\r\n",
    "for row in c.fetchall():\r\n",
    "  news_con.append(row)\r\n",
    "\r\n",
    "# test용 -> 삭제하시고 news_con을 각 일자별 기사로 분류해서 넣기\r\n",
    "news_test = news_con[5:9]\r\n",
    "\r\n",
    "okt = Okt()\r\n",
    "stopwords = ['코로나', '올림픽', '폐렴', '바이러스', '백신', '수급', '방역', '거리두기', '일정', '캠페인', '대해', '에서', '이고', '라고', '다고', '라기', '라며', '면서', '라면서', '로써', '로서', '으로', '에서', '어야', '부터', '한다', '이다', '였다', '였었다', '|', '/','‘', '’', ',' , '“', '”', '.', '>', '<', ')', '(']  # 제외단어 리스트\r\n",
    "news_nouns = list()  # 기사에 사용된 모든 명사를 리스트로 담음\r\n",
    "for news in news_test:  # news_con에서 한 줄(한 기사)씩 뽑아서 반복\r\n",
    "  temp = ' '.join(news)  # 띄어쓰기를 넣어 문자열을 붙여줌\r\n",
    "  temp_re = re.sub('[^가-힣]','', temp) # 가-힣을 제외한 모든 글자를 삭제 -> 이미 한글 기사만 남아있는 경우 삭제 가능 (밑에 temp_re -> temp로 수정\r\n",
    "  encoded = okt.nouns(temp_re)  # okt를 사용하여 명사 단위로 끊음\r\n",
    "  exist_word = [item for item in encoded if item not in stopwords]  # stopword에 있는 단어를 제외한 것을 exist_word에 넣음\r\n",
    "  for prep_word in exist_word:  # exist_word 리스트 안의 단어를 하나씩 뽑아서 반복\r\n",
    "    if len(prep_word) > 1:  # 뽑아낸 단어 중 2글자 이상인 것만\r\n",
    "      news_nouns.append(prep_word)  # news_nouns 리스트에 삽입\r\n",
    "  noun_counter = Counter(news_nouns)  # news_nouns 리스트의 문자의 빈도수를 셈\r\n",
    "\r\n",
    "print(news_test)\r\n",
    "print(news_nouns)\r\n",
    "print(noun_counter)\r\n",
    "\r\n",
    "conn.close()"
   ],
   "outputs": [],
   "metadata": {
    "colab": {
     "base_uri": "https://localhost:8080/"
    },
    "executionInfo": {
     "elapsed": 84813,
     "status": "ok",
     "timestamp": 1632356133384,
     "user": {
      "displayName": "Dong K",
      "photoUrl": "https://lh3.googleusercontent.com/a-/AOh14GhfzIBEweT4YxnmX5ti-XjETSscri4mVXUVCi9WkQ=s64",
      "userId": "00232521900910324021"
     },
     "user_tz": -540
    },
    "id": "XZzcehyWicDe",
    "outputId": "6494cc23-a001-42ba-d0d9-a815bfcaff32"
   }
  },
  {
   "cell_type": "code",
   "execution_count": null,
   "source": [],
   "outputs": [],
   "metadata": {
    "id": "5ESYGLDBRN3P"
   }
  }
 ],
 "metadata": {
  "colab": {
   "authorship_tag": "ABX9TyNc620OOAbH1npa+WlUGPFM",
   "collapsed_sections": [],
   "mount_file_id": "1lNoxzSu6o9_pkIeyRMCmtwdY2McprbyH",
   "name": "hd_Tokenize.ipynb",
   "provenance": []
  },
  "kernelspec": {
   "display_name": "Python 3",
   "language": "python",
   "name": "python3"
  },
  "language_info": {
   "codemirror_mode": {
    "name": "ipython",
    "version": 3
   },
   "file_extension": ".py",
   "mimetype": "text/x-python",
   "name": "python",
   "nbconvert_exporter": "python",
   "pygments_lexer": "ipython3",
   "version": "3.8.8"
  }
 },
 "nbformat": 4,
 "nbformat_minor": 1
}