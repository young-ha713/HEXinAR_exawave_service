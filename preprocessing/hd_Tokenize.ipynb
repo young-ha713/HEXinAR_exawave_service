{
 "cells": [
  {
   "cell_type": "code",
   "execution_count": null,
   "metadata": {
    "colab": {
     "base_uri": "https://localhost:8080/"
    },
    "executionInfo": {
     "elapsed": 84813,
     "status": "ok",
     "timestamp": 1632356133384,
     "user": {
      "displayName": "Dong K",
      "photoUrl": "https://lh3.googleusercontent.com/a-/AOh14GhfzIBEweT4YxnmX5ti-XjETSscri4mVXUVCi9WkQ=s64",
      "userId": "00232521900910324021"
     },
     "user_tz": -540
    },
    "id": "XZzcehyWicDe",
    "outputId": "6494cc23-a001-42ba-d0d9-a815bfcaff32"
   },
   "outputs": [],
   "source": [
    "!pip install konlpy\n",
    "\n",
    "import re\n",
    "import sqlite3\n",
    "from konlpy.tag import Okt\n",
    "from collections import Counter\n",
    "\n",
    "# db 자료 불러오기\n",
    "conn = sqlite3.connect('news.db')\n",
    "c = conn.cursor()\n",
    "c.execute('SELECT news_content from news_dummy2')\n",
    "# c.execute('SELECT news_content from news_dummy2 WHERE pubdate LIKE \"%23:55')\n",
    "news_con = []\n",
    "for row in c.fetchall():\n",
    "  news_con.append(row)\n",
    "\n",
    "# test용 -> 삭제하시고 news_con을 각 일자별 기사로 분류해서 넣기\n",
    "news_test = news_con[5:9]\n",
    "\n",
    "okt = Okt()\n",
    "stopwords = ['코로나', '올림픽', '폐렴', '바이러스', '백신', '수급', '방역', '거리두기', '일정', '캠페인', '대해', '에서', '이고', '라고', '다고', '라기', '라며', '면서', '라면서', '로써', '로서', '으로', '에서', '어야', '부터', '한다', '이다', '였다', '였었다', '|', '/','‘', '’', ',' , '“', '”', '.', '>', '<', ')', '(']  # 제외단어 리스트\n",
    "news_nouns = list()  # 기사에 사용된 모든 명사를 리스트로 담음\n",
    "for news in news_test:  # news_con에서 한 줄(한 기사)씩 뽑아서 반복\n",
    "  temp = ' '.join(news)  # 띄어쓰기를 넣어 문자열을 붙여줌\n",
    "  temp_re = re.sub('[^가-힣]','', temp) # 가-힣을 제외한 모든 글자를 삭제 -> 이미 한글 기사만 남아있는 경우 삭제 가능 (밑에 temp_re -> temp로 수정\n",
    "  encoded = okt.nouns(temp_re)  # okt를 사용하여 명사 단위로 끊음\n",
    "  exist_word = [item for item in encoded if item not in stopwords]  # stopword에 있는 단어를 제외한 것을 exist_word에 넣음\n",
    "  for prep_word in exist_word:  # exist_word 리스트 안의 단어를 하나씩 뽑아서 반복\n",
    "    if len(prep_word) > 1:  # 뽑아낸 단어 중 2글자 이상인 것만\n",
    "      news_nouns.append(prep_word)  # news_nouns 리스트에 삽입\n",
    "  noun_counter = Counter(news_nouns)  # news_nouns 리스트의 문자의 빈도수를 셈\n",
    "\n",
    "print(news_test)\n",
    "print(news_nouns)\n",
    "print(noun_counter)\n",
    "\n",
    "conn.close()"
   ]
  },
  {
   "cell_type": "code",
   "execution_count": null,
   "metadata": {
    "id": "5ESYGLDBRN3P"
   },
   "outputs": [],
   "source": []
  }
 ],
 "metadata": {
  "colab": {
   "authorship_tag": "ABX9TyNc620OOAbH1npa+WlUGPFM",
   "collapsed_sections": [],
   "mount_file_id": "1lNoxzSu6o9_pkIeyRMCmtwdY2McprbyH",
   "name": "hd_Tokenize.ipynb",
   "provenance": []
  },
  "kernelspec": {
   "display_name": "Python 3",
   "language": "python",
   "name": "python3"
  },
  "language_info": {
   "codemirror_mode": {
    "name": "ipython",
    "version": 3
   },
   "file_extension": ".py",
   "mimetype": "text/x-python",
   "name": "python",
   "nbconvert_exporter": "python",
   "pygments_lexer": "ipython3",
   "version": "3.8.8"
  }
 },
 "nbformat": 4,
 "nbformat_minor": 1
}
