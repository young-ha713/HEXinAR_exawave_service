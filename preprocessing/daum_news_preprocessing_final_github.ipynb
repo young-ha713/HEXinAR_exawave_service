{
 "cells": [
  {
   "cell_type": "code",
   "execution_count": 10,
   "id": "8b90c071",
   "metadata": {},
   "outputs": [],
   "source": [
    "import pandas as pd\n",
    "import re\n",
    "import os\n",
    "import sqlite3\n",
    "import numpy as np"
   ]
  },
  {
   "cell_type": "code",
   "execution_count": 16,
   "id": "804d6cfa",
   "metadata": {},
   "outputs": [],
   "source": [
    "df = pd.read_csv('불러올 csv파일 이름', names=['order','news_name','pubdate','url', 'content'])   # 컬럼이름 지정\n",
    "df.to_csv('저장할 csv파일 이름', encoding='utf-8-sig')"
   ]
  },
  {
   "cell_type": "code",
   "execution_count": 26,
   "id": "2fbc633a",
   "metadata": {},
   "outputs": [],
   "source": [
    "con = sqlite3.connect(\"db.news\")   # 데이터베이스 이름\n",
    "c = con.cursor()\n",
    "\n",
    "contents = []\n",
    "contents_new = []\n",
    "\n",
    "def preprocessing_articles(data):\n",
    "    for content in data['content']:\n",
    "\n",
    "        content = content.split('\\n')\n",
    "        content = list(filter(lambda s: len(s) > 3, content))\n",
    "\n",
    "        # 글 마지막에 항상 기자의 메일 주소가 추가되어 있다. 그 이후로 나오는 글은 불필요하므로 삭제함\n",
    "        for i in range(1, len(content)):\n",
    "            if '@' in content[-i]:\n",
    "                break               \n",
    "            if i == len(content)-1:\n",
    "                i = 1\n",
    "            content_prep = content[:-i]\n",
    "\n",
    "        # 너무 짧거나, 광고, copyright, 사진설명, 메일 등 불필요한 단어가 포함되어 있을 경우 불필요한 문장으로 판단하고 삭제 처리\n",
    "            content_prep = list(filter(lambda s: len(s) > 30 and \\\n",
    "                '▶' not in s and \\\n",
    "                    '©' not in s and \\\n",
    "                        '▲' not in s and \\\n",
    "                            '사진=' not in s and \\\n",
    "                                '사진제공=' not in s and \\\n",
    "                                    '@' not in s and \\\n",
    "                                        not re.findall(\"기자 *$\", s) and \\\n",
    "                                            not re.findall(\"제공 *$\", s) and \\\n",
    "                                                not re.findall(\"이하\", s) and \\\n",
    "                                                    not re.findall(\"무단전재\", s) and \\\n",
    "                                                        not re.findall(\"기자 *= *\", s) , content_prep))\n",
    "\n",
    "        # 언론사명이 들어간 prefix 삭제\n",
    "        content_prep = list(map(lambda s: re.sub(\"\\[.*\\]\", \"\", s), content_prep)) #[스포츠서울]\n",
    "        content_prep = list(map(lambda s: re.sub(\"\\(.*\\=.*\\)\", \"\", s), content_prep)) #(서울=뉴시스)\n",
    "        content_prep = list(map(lambda s: re.sub(\"\\【.*\\=.*\\】\", \"\", s), content_prep)) #【파이낸셜뉴스 포천=강근주 기자】\n",
    "        content_prep = list(map(lambda s: re.sub('[^가-힣]',' ', s), content_prep)) # 한글 제외 영문, 한자, 숫자, 특수문자 모두 제거 \n",
    "\n",
    "        contents.append('\\n'.join(content))\n",
    "        contents_new.append('\\n'.join(content_prep))\n",
    "\n",
    "    data['news_content'] = contents_new\n",
    "\n",
    "    return data\n",
    "\n",
    "\n",
    "if __name__ == \"__main__\":\n",
    "        \n",
    "    file = '위에서 저장한 csv파일 이름'\n",
    "    data = pd.read_csv(file)\n",
    "\n",
    "    data_prep = preprocessing_articles(data)\n",
    "    data_prep['news_content'].replace('', np.nan, inplace=True)    # 빈셀이 있는 행을 삭제하기 위해 NaN으로 변경\n",
    "    data_prep_drop = data_prep.dropna(axis=0)\n",
    "    data_prep_drop_dup = data_prep_drop.drop_duplicates(['news_content'], keep='first', inplace=False, ignore_index=True)   # 중복값 제거\n",
    "    result = data_prep_drop_dup[['news_name', 'pubdate', 'url', 'news_content']]\n",
    "    result.to_sql('news_dummy', con)\n",
    "    con.commit()\n",
    "    con.close()\n"
   ]
  }
 ],
 "metadata": {
  "kernelspec": {
   "display_name": "Python 3 (ipykernel)",
   "language": "python",
   "name": "python3"
  },
  "language_info": {
   "codemirror_mode": {
    "name": "ipython",
    "version": 3
   },
   "file_extension": ".py",
   "mimetype": "text/x-python",
   "name": "python",
   "nbconvert_exporter": "python",
   "pygments_lexer": "ipython3",
   "version": "3.9.6"
  }
 },
 "nbformat": 4,
 "nbformat_minor": 5
}
